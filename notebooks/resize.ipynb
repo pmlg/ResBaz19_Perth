{
 "cells": [
  {
   "cell_type": "code",
   "execution_count": 3,
   "metadata": {
    "ExecuteTime": {
     "end_time": "2020-01-05T07:24:23.963881Z",
     "start_time": "2020-01-05T07:24:23.959893Z"
    }
   },
   "outputs": [],
   "source": [
    "from PIL import Image\n",
    "import os\n",
    "import sys\n",
    "import matplotlib.pyplot as plt\n",
    "from pathlib import Path"
   ]
  },
  {
   "cell_type": "code",
   "execution_count": 6,
   "metadata": {
    "ExecuteTime": {
     "end_time": "2020-01-05T07:24:52.744424Z",
     "start_time": "2020-01-05T07:24:52.739464Z"
    }
   },
   "outputs": [
    {
     "data": {
      "text/plain": [
       "'C:\\\\Users\\\\sarad\\\\Documents\\\\GitHub\\\\Repo\\\\ResBaz19_Perth\\\\notebooks'"
      ]
     },
     "execution_count": 6,
     "metadata": {},
     "output_type": "execute_result"
    }
   ],
   "source": [
    "pwd"
   ]
  },
  {
   "cell_type": "code",
   "execution_count": 8,
   "metadata": {
    "ExecuteTime": {
     "end_time": "2020-01-05T07:27:02.751208Z",
     "start_time": "2020-01-05T07:27:02.747242Z"
    }
   },
   "outputs": [],
   "source": [
    "# Note: the testA and trainA folders were resized by Nathan\n",
    "\n",
    "paths = [\n",
    "    \"cats_musical_ali/\"\n",
    "]"
   ]
  },
  {
   "cell_type": "code",
   "execution_count": 9,
   "metadata": {
    "ExecuteTime": {
     "end_time": "2020-01-05T07:28:02.484809Z",
     "start_time": "2020-01-05T07:27:03.234107Z"
    }
   },
   "outputs": [],
   "source": [
    "del_f = []\n",
    "\n",
    "for path in paths:\n",
    "    dirs = os.listdir(path)\n",
    "    for item in dirs:\n",
    "        if os.path.isfile(path+item):\n",
    "            try:\n",
    "                im = Image.open(path+item)\n",
    "                im = im.convert(\"RGB\")\n",
    "                f, e = os.path.splitext(path+item)\n",
    "                imResize = im.resize((256, 256), Image.ANTIALIAS)\n",
    "                imResize.save(f + '.png', quality=90, optimize=True)\n",
    "            except Exception as e:\n",
    "                print(e)\n",
    "                del_f.append(f)"
   ]
  },
  {
   "cell_type": "code",
   "execution_count": null,
   "metadata": {},
   "outputs": [],
   "source": []
  }
 ],
 "metadata": {
  "kernelspec": {
   "display_name": "Python [conda env:resbazml] *",
   "language": "python",
   "name": "conda-env-resbazml-py"
  },
  "language_info": {
   "codemirror_mode": {
    "name": "ipython",
    "version": 3
   },
   "file_extension": ".py",
   "mimetype": "text/x-python",
   "name": "python",
   "nbconvert_exporter": "python",
   "pygments_lexer": "ipython3",
   "version": "3.7.3"
  },
  "varInspector": {
   "cols": {
    "lenName": 16,
    "lenType": 16,
    "lenVar": 40
   },
   "kernels_config": {
    "python": {
     "delete_cmd_postfix": "",
     "delete_cmd_prefix": "del ",
     "library": "var_list.py",
     "varRefreshCmd": "print(var_dic_list())"
    },
    "r": {
     "delete_cmd_postfix": ") ",
     "delete_cmd_prefix": "rm(",
     "library": "var_list.r",
     "varRefreshCmd": "cat(var_dic_list()) "
    }
   },
   "types_to_exclude": [
    "module",
    "function",
    "builtin_function_or_method",
    "instance",
    "_Feature"
   ],
   "window_display": false
  }
 },
 "nbformat": 4,
 "nbformat_minor": 2
}
