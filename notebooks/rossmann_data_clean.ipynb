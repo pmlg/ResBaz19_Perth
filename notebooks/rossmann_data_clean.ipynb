{
 "cells": [
  {
   "cell_type": "markdown",
   "metadata": {},
   "source": [
    "original source: https://github.com/fastai/course-v3/blob/master/nbs/dl1/rossman_data_clean.ipynb"
   ]
  },
  {
   "cell_type": "markdown",
   "metadata": {
    "ExecuteTime": {
     "end_time": "2019-06-26T07:06:40.833306Z",
     "start_time": "2019-06-26T07:06:40.756512Z"
    }
   },
   "source": [
    "Every notebook starts with the following three lines; they ensure that any edits to libraries you make are reloaded here automatically, and also that any charts or images displayed are shown in this notebook."
   ]
  },
  {
   "cell_type": "code",
   "execution_count": 1,
   "metadata": {
    "ExecuteTime": {
     "end_time": "2019-07-02T07:46:01.351167Z",
     "start_time": "2019-07-02T07:46:01.340165Z"
    }
   },
   "outputs": [
    {
     "data": {
      "text/html": [
       "<style>.container { width:100% !important; }</style>"
      ],
      "text/plain": [
       "<IPython.core.display.HTML object>"
      ]
     },
     "metadata": {},
     "output_type": "display_data"
    }
   ],
   "source": [
    "from IPython.core.display import display, HTML\n",
    "display(HTML(\"<style>.container { width:100% !important; }</style>\"))"
   ]
  },
  {
   "cell_type": "code",
   "execution_count": 2,
   "metadata": {
    "ExecuteTime": {
     "end_time": "2019-07-02T07:46:01.720256Z",
     "start_time": "2019-07-02T07:46:01.353132Z"
    },
    "colab": {},
    "colab_type": "code",
    "id": "p31ws0RKC5AQ"
   },
   "outputs": [],
   "source": [
    "%reload_ext autoreload\n",
    "%autoreload 2\n",
    "%matplotlib inline"
   ]
  },
  {
   "cell_type": "code",
   "execution_count": 3,
   "metadata": {
    "ExecuteTime": {
     "end_time": "2019-07-02T07:46:02.038381Z",
     "start_time": "2019-07-02T07:46:01.722220Z"
    },
    "colab": {},
    "colab_type": "code",
    "id": "4log-Sjqk9O-"
   },
   "outputs": [],
   "source": [
    "import pandas as pd\n",
    "pd.set_option('display.max_columns', 100)  # set display options in pandas\n",
    "pd.set_option('display.max_rows',100)\n",
    "pd.set_option('display.width', 1000)\n",
    "\n",
    "from pathlib import Path\n",
    "import re\n",
    "import numpy as np\n",
    "from isoweek import Week"
   ]
  },
  {
   "cell_type": "markdown",
   "metadata": {
    "colab_type": "text",
    "id": "ZIfcG8q7C5AT"
   },
   "source": [
    "# Rossmann"
   ]
  },
  {
   "cell_type": "markdown",
   "metadata": {
    "colab_type": "text",
    "id": "cUD62at1C5AU"
   },
   "source": [
    "## Data preparation / Feature engineering"
   ]
  },
  {
   "cell_type": "markdown",
   "metadata": {
    "colab_type": "text",
    "id": "KFoZK2JeC5AU"
   },
   "source": [
    "In addition to the provided data, we will be using external datasets put together by participants in the Kaggle competition. You can download all of them [here](http://files.fast.ai/part2/lesson14/rossmann.tgz). Then you shold untar them in the dirctory to which `PATH` is pointing below.\n",
    "\n",
    "For completeness, the implementation used to put them together is included below."
   ]
  },
  {
   "cell_type": "code",
   "execution_count": 4,
   "metadata": {
    "ExecuteTime": {
     "end_time": "2019-07-02T07:46:05.258232Z",
     "start_time": "2019-07-02T07:46:02.041353Z"
    },
    "colab": {
     "base_uri": "https://localhost:8080/",
     "height": 228
    },
    "colab_type": "code",
    "executionInfo": {
     "elapsed": 697,
     "status": "error",
     "timestamp": 1561532274772,
     "user": {
      "displayName": "Sarada Lee",
      "photoUrl": "https://lh3.googleusercontent.com/-Z-uU5-5apf8/AAAAAAAAAAI/AAAAAAAAABc/bNluDe5pzU0/s64/photo.jpg",
      "userId": "15071145540534532009"
     },
     "user_tz": -480
    },
    "id": "EGqrPvbIC5AV",
    "outputId": "8db55d78-6668-466a-c3fb-e3990084756f"
   },
   "outputs": [
    {
     "data": {
      "text/plain": [
       "(1017209, 41088)"
      ]
     },
     "execution_count": 4,
     "metadata": {},
     "output_type": "execute_result"
    }
   ],
   "source": [
    "PATH = Path('d:/dl_dataset/rossmann')   # modifiy here if necessary\n",
    "table_names = ['train', 'store', 'store_states', 'state_names', 'googletrend', 'weather', 'test']\n",
    "tables = [pd.read_csv(PATH/f'{fname}.csv', low_memory=False) for fname in table_names]\n",
    "train, store, store_states, state_names, googletrend, weather, test = tables\n",
    "len(train),len(test)"
   ]
  },
  {
   "cell_type": "code",
   "execution_count": 5,
   "metadata": {
    "ExecuteTime": {
     "end_time": "2019-07-02T07:46:05.318061Z",
     "start_time": "2019-07-02T07:46:05.259187Z"
    },
    "colab": {
     "base_uri": "https://localhost:8080/",
     "height": 161
    },
    "colab_type": "code",
    "executionInfo": {
     "elapsed": 723,
     "status": "error",
     "timestamp": 1561532260552,
     "user": {
      "displayName": "Sarada Lee",
      "photoUrl": "https://lh3.googleusercontent.com/-Z-uU5-5apf8/AAAAAAAAAAI/AAAAAAAAABc/bNluDe5pzU0/s64/photo.jpg",
      "userId": "15071145540534532009"
     },
     "user_tz": -480
    },
    "id": "TsHvl1l4EFeY",
    "outputId": "b29b6500-d98e-470d-fb79-fa9d31204a1a"
   },
   "outputs": [
    {
     "data": {
      "text/plain": [
       "WindowsPath('d:/dl_dataset/rossmann')"
      ]
     },
     "execution_count": 5,
     "metadata": {},
     "output_type": "execute_result"
    }
   ],
   "source": [
    "PATH"
   ]
  },
  {
   "cell_type": "markdown",
   "metadata": {
    "colab_type": "text",
    "id": "dVbn9ThSC5Aa"
   },
   "source": [
    "We turn state Holidays to booleans, to make them more convenient for modeling. We can do calculations on pandas fields using notation very similar (often identical) to numpy."
   ]
  },
  {
   "cell_type": "code",
   "execution_count": 6,
   "metadata": {
    "ExecuteTime": {
     "end_time": "2019-07-02T07:46:05.372883Z",
     "start_time": "2019-07-02T07:46:05.319025Z"
    },
    "colab": {
     "base_uri": "https://localhost:8080/",
     "height": 126
    },
    "colab_type": "code",
    "executionInfo": {
     "elapsed": 5951,
     "status": "ok",
     "timestamp": 1561447685861,
     "user": {
      "displayName": "Sarada Lee",
      "photoUrl": "https://lh3.googleusercontent.com/-Z-uU5-5apf8/AAAAAAAAAAI/AAAAAAAAABc/bNluDe5pzU0/s64/photo.jpg",
      "userId": "15071145540534532009"
     },
     "user_tz": -480
    },
    "id": "9XppwK9yG6aY",
    "outputId": "64fe926f-2ce1-4cde-af11-b1c3f3c95d0a"
   },
   "outputs": [
    {
     "data": {
      "text/plain": [
       "0    0\n",
       "1    0\n",
       "2    0\n",
       "3    0\n",
       "4    0\n",
       "Name: StateHoliday, dtype: object"
      ]
     },
     "execution_count": 6,
     "metadata": {},
     "output_type": "execute_result"
    }
   ],
   "source": [
    "train.StateHoliday.head()"
   ]
  },
  {
   "cell_type": "code",
   "execution_count": 7,
   "metadata": {
    "ExecuteTime": {
     "end_time": "2019-07-02T07:46:05.487647Z",
     "start_time": "2019-07-02T07:46:05.374878Z"
    },
    "colab": {},
    "colab_type": "code",
    "id": "pMwMzK6oC5Ab"
   },
   "outputs": [],
   "source": [
    "train.StateHoliday = train.StateHoliday!='0'\n",
    "test.StateHoliday = test.StateHoliday!='0'"
   ]
  },
  {
   "cell_type": "code",
   "execution_count": 8,
   "metadata": {
    "ExecuteTime": {
     "end_time": "2019-07-02T07:46:05.543425Z",
     "start_time": "2019-07-02T07:46:05.488573Z"
    },
    "colab": {
     "base_uri": "https://localhost:8080/",
     "height": 126
    },
    "colab_type": "code",
    "executionInfo": {
     "elapsed": 5339,
     "status": "ok",
     "timestamp": 1561447685866,
     "user": {
      "displayName": "Sarada Lee",
      "photoUrl": "https://lh3.googleusercontent.com/-Z-uU5-5apf8/AAAAAAAAAAI/AAAAAAAAABc/bNluDe5pzU0/s64/photo.jpg",
      "userId": "15071145540534532009"
     },
     "user_tz": -480
    },
    "id": "C189ZbMgHYb5",
    "outputId": "08e1c7aa-7a42-4f7b-ea11-44349e617889"
   },
   "outputs": [
    {
     "data": {
      "text/plain": [
       "0    False\n",
       "1    False\n",
       "2    False\n",
       "3    False\n",
       "4    False\n",
       "Name: StateHoliday, dtype: bool"
      ]
     },
     "execution_count": 8,
     "metadata": {},
     "output_type": "execute_result"
    }
   ],
   "source": [
    "train.StateHoliday.head()"
   ]
  },
  {
   "cell_type": "markdown",
   "metadata": {
    "colab_type": "text",
    "id": "B1vR2QeqC5Ad"
   },
   "source": [
    "`join_df` is a function for joining tables on specific fields. By default, we'll be doing a left outer join of `right` on the `left` argument using the given fields for each table.\n",
    "\n",
    "Pandas does joins using the `merge` method. The `suffixes` argument describes the naming convention for duplicate fields. We've elected to leave the duplicate field names on the left untouched, and append a \"\\_y\" to those on the right."
   ]
  },
  {
   "cell_type": "code",
   "execution_count": 9,
   "metadata": {
    "ExecuteTime": {
     "end_time": "2019-07-02T07:46:05.597282Z",
     "start_time": "2019-07-02T07:46:05.544423Z"
    },
    "colab": {},
    "colab_type": "code",
    "id": "0TquOG0fC5Ae"
   },
   "outputs": [],
   "source": [
    "def join_df(left, right, left_on, right_on=None, suffix='_y'):\n",
    "    if right_on is None: right_on = left_on\n",
    "    return left.merge(right, how='left', left_on=left_on, right_on=right_on, \n",
    "                      suffixes=(\"\", suffix))"
   ]
  },
  {
   "cell_type": "markdown",
   "metadata": {
    "colab_type": "text",
    "id": "dEtTBOLNC5Ah"
   },
   "source": [
    "Join weather/state names."
   ]
  },
  {
   "cell_type": "code",
   "execution_count": 10,
   "metadata": {
    "ExecuteTime": {
     "end_time": "2019-07-02T07:46:05.656232Z",
     "start_time": "2019-07-02T07:46:05.599275Z"
    },
    "colab": {},
    "colab_type": "code",
    "id": "yMRvopOlC5Ai"
   },
   "outputs": [],
   "source": [
    "weather = join_df(weather, state_names, \"file\", \"StateName\")"
   ]
  },
  {
   "cell_type": "markdown",
   "metadata": {
    "colab_type": "text",
    "id": "0v1Z7bXzC5Ak"
   },
   "source": [
    "In pandas you can add new columns to a dataframe by simply defining it. We'll do this for googletrends by extracting dates and state names from the given data and adding those columns.\n",
    "\n",
    "We're also going to replace all instances of state name 'NI' to match the usage in the rest of the data: 'HB,NI'. This is a good opportunity to highlight pandas indexing. "
   ]
  },
  {
   "cell_type": "markdown",
   "metadata": {
    "colab_type": "text",
    "id": "UmyYzJLehn1C"
   },
   "source": [
    "**Handle strings**"
   ]
  },
  {
   "cell_type": "code",
   "execution_count": 11,
   "metadata": {
    "ExecuteTime": {
     "end_time": "2019-07-02T07:46:05.710091Z",
     "start_time": "2019-07-02T07:46:05.657233Z"
    },
    "colab": {
     "base_uri": "https://localhost:8080/",
     "height": 35
    },
    "colab_type": "code",
    "executionInfo": {
     "elapsed": 4139,
     "status": "ok",
     "timestamp": 1561447685871,
     "user": {
      "displayName": "Sarada Lee",
      "photoUrl": "https://lh3.googleusercontent.com/-Z-uU5-5apf8/AAAAAAAAAAI/AAAAAAAAABc/bNluDe5pzU0/s64/photo.jpg",
      "userId": "15071145540534532009"
     },
     "user_tz": -480
    },
    "id": "GGw4_2KVhxSt",
    "outputId": "8b418cac-7893-4da0-d2e2-ead440aa4f0c"
   },
   "outputs": [
    {
     "data": {
      "text/plain": [
       "'2012-12-02 - 2012-12-08'"
      ]
     },
     "execution_count": 11,
     "metadata": {},
     "output_type": "execute_result"
    }
   ],
   "source": [
    "googletrend.week[0]"
   ]
  },
  {
   "cell_type": "code",
   "execution_count": 12,
   "metadata": {
    "ExecuteTime": {
     "end_time": "2019-07-02T07:46:05.771926Z",
     "start_time": "2019-07-02T07:46:05.712090Z"
    },
    "colab": {},
    "colab_type": "code",
    "id": "vVNOY98pC5Al"
   },
   "outputs": [],
   "source": [
    "googletrend['Date'] = googletrend.week.str.split(' - ', expand=True)[0]\n",
    "googletrend['State'] = googletrend.file.str.split('_', expand=True)[2]"
   ]
  },
  {
   "cell_type": "code",
   "execution_count": 13,
   "metadata": {
    "ExecuteTime": {
     "end_time": "2019-07-02T07:46:05.829803Z",
     "start_time": "2019-07-02T07:46:05.776915Z"
    },
    "colab": {
     "base_uri": "https://localhost:8080/",
     "height": 35
    },
    "colab_type": "code",
    "executionInfo": {
     "elapsed": 3814,
     "status": "ok",
     "timestamp": 1561447685874,
     "user": {
      "displayName": "Sarada Lee",
      "photoUrl": "https://lh3.googleusercontent.com/-Z-uU5-5apf8/AAAAAAAAAAI/AAAAAAAAABc/bNluDe5pzU0/s64/photo.jpg",
      "userId": "15071145540534532009"
     },
     "user_tz": -480
    },
    "id": "UtX82W3biAjg",
    "outputId": "58e29f8e-a9ed-4332-c1e2-c955a96630aa"
   },
   "outputs": [
    {
     "data": {
      "text/plain": [
       "'2012-12-02'"
      ]
     },
     "execution_count": 13,
     "metadata": {},
     "output_type": "execute_result"
    }
   ],
   "source": [
    "googletrend.Date[0]"
   ]
  },
  {
   "cell_type": "markdown",
   "metadata": {
    "colab_type": "text",
    "id": "6SeTQbDCi2zN"
   },
   "source": [
    "We can use .loc[rows, cols] to select a list of rows and a list of columns from the dataframe. In this case, we're selecting rows w/ statename 'NI' by using a boolean list googletrend.State=='NI' and selecting \"State\"."
   ]
  },
  {
   "cell_type": "code",
   "execution_count": 14,
   "metadata": {
    "ExecuteTime": {
     "end_time": "2019-07-02T07:46:05.887617Z",
     "start_time": "2019-07-02T07:46:05.833760Z"
    },
    "colab": {},
    "colab_type": "code",
    "id": "TSIEOPzYiqKA"
   },
   "outputs": [],
   "source": [
    "googletrend.loc[googletrend.State=='NI', \"State\"] = 'HB,NI'"
   ]
  },
  {
   "cell_type": "markdown",
   "metadata": {
    "colab_type": "text",
    "id": "nGMbIN7bC5Ao"
   },
   "source": [
    "The following extracts particular date fields from a complete datetime for the purpose of constructing categoricals.\n",
    "\n",
    "You should *always* consider this feature extraction step when working with date-time. Without expanding your date-time into these additional fields, you can't capture any trend/cyclical behavior as a function of time at any of these granularities. We'll add to every table with a date field."
   ]
  },
  {
   "cell_type": "code",
   "execution_count": 15,
   "metadata": {
    "ExecuteTime": {
     "end_time": "2019-07-02T07:46:05.941497Z",
     "start_time": "2019-07-02T07:46:05.888613Z"
    },
    "colab": {},
    "colab_type": "code",
    "id": "QiT-tErSC5Ap"
   },
   "outputs": [],
   "source": [
    "def add_datepart(df, fldname, drop=True, time=False):\n",
    "    \"Helper function that adds columns relevant to a date.\"\n",
    "    fld = df[fldname]\n",
    "    fld_dtype = fld.dtype\n",
    "    if isinstance(fld_dtype, pd.core.dtypes.dtypes.DatetimeTZDtype):\n",
    "        fld_dtype = np.datetime64\n",
    "\n",
    "    if not np.issubdtype(fld_dtype, np.datetime64):\n",
    "        df[fldname] = fld = pd.to_datetime(fld, infer_datetime_format=True)\n",
    "    targ_pre = re.sub('[Dd]ate$', '', fldname)\n",
    "    attr = ['Year', 'Month', 'Week', 'Day', \n",
    "            'Dayofweek', 'Dayofyear',\n",
    "            'Is_month_end', 'Is_month_start', \n",
    "            'Is_quarter_end', 'Is_quarter_start', \n",
    "            'Is_year_end', 'Is_year_start']\n",
    "    if time: attr = attr + ['Hour', 'Minute', 'Second']\n",
    "    for n in attr: df[targ_pre + n] = getattr(fld.dt, n.lower())\n",
    "    df[targ_pre + 'Elapsed'] = fld.astype(np.int64) // 10 ** 9\n",
    "    if drop: df.drop(fldname, axis=1, inplace=True)"
   ]
  },
  {
   "cell_type": "code",
   "execution_count": 16,
   "metadata": {
    "ExecuteTime": {
     "end_time": "2019-07-02T07:46:07.464997Z",
     "start_time": "2019-07-02T07:46:05.943470Z"
    },
    "colab": {},
    "colab_type": "code",
    "id": "TOHyAszrC5As"
   },
   "outputs": [],
   "source": [
    "add_datepart(weather, \"Date\", drop=False)\n",
    "add_datepart(googletrend, \"Date\", drop=False)\n",
    "add_datepart(train, \"Date\", drop=False)\n",
    "add_datepart(test, \"Date\", drop=False)"
   ]
  },
  {
   "cell_type": "markdown",
   "metadata": {
    "colab_type": "text",
    "id": "QwsdKcV4C5Au"
   },
   "source": [
    "The Google trends data has a special category for the whole of the Germany - we'll pull that out so we can use it explicitly."
   ]
  },
  {
   "cell_type": "code",
   "execution_count": 17,
   "metadata": {
    "ExecuteTime": {
     "end_time": "2019-07-02T07:46:07.527865Z",
     "start_time": "2019-07-02T07:46:07.465994Z"
    },
    "colab": {},
    "colab_type": "code",
    "id": "3sZP3IzvC5Av"
   },
   "outputs": [],
   "source": [
    "trend_de = googletrend[googletrend.file == 'Rossmann_DE']"
   ]
  },
  {
   "cell_type": "markdown",
   "metadata": {
    "colab_type": "text",
    "id": "n6gfFHk1C5Az"
   },
   "source": [
    "Now we can outer join all of our data into a single dataframe. Recall that in outer joins everytime a value in the joining field on the left table does not have a corresponding value on the right table, the corresponding row in the new table has Null values for all right table fields. One way to check that all records are consistent and complete is to check for Null values post-join, as we do here.\n",
    "\n",
    "*Aside*: Why not just do an inner join?\n",
    "If you are assuming that all records are complete and match on the field you desire, an inner join will do the same thing as an outer join. However, in the event you are wrong or a mistake is made, an outer join followed by a null-check will catch it. (Comparing before/after # of rows for inner join is equivalent, but requires keeping track of before/after row #'s. Outer join is easier.)"
   ]
  },
  {
   "cell_type": "code",
   "execution_count": 18,
   "metadata": {
    "ExecuteTime": {
     "end_time": "2019-07-02T07:46:07.583706Z",
     "start_time": "2019-07-02T07:46:07.528829Z"
    },
    "colab": {
     "base_uri": "https://localhost:8080/",
     "height": 35
    },
    "colab_type": "code",
    "executionInfo": {
     "elapsed": 3466,
     "status": "ok",
     "timestamp": 1561447686932,
     "user": {
      "displayName": "Sarada Lee",
      "photoUrl": "https://lh3.googleusercontent.com/-Z-uU5-5apf8/AAAAAAAAAAI/AAAAAAAAABc/bNluDe5pzU0/s64/photo.jpg",
      "userId": "15071145540534532009"
     },
     "user_tz": -480
    },
    "id": "jfxCNwqOC5A0",
    "outputId": "a540c818-4067-4083-ded4-2779dd7892d7"
   },
   "outputs": [
    {
     "data": {
      "text/plain": [
       "0"
      ]
     },
     "execution_count": 18,
     "metadata": {},
     "output_type": "execute_result"
    }
   ],
   "source": [
    "store = join_df(store, store_states, \"Store\")\n",
    "len(store[store.State.isnull()])"
   ]
  },
  {
   "cell_type": "code",
   "execution_count": 19,
   "metadata": {
    "ExecuteTime": {
     "end_time": "2019-07-02T07:46:08.390523Z",
     "start_time": "2019-07-02T07:46:07.585677Z"
    },
    "colab": {
     "base_uri": "https://localhost:8080/",
     "height": 35
    },
    "colab_type": "code",
    "executionInfo": {
     "elapsed": 4247,
     "status": "ok",
     "timestamp": 1561447687848,
     "user": {
      "displayName": "Sarada Lee",
      "photoUrl": "https://lh3.googleusercontent.com/-Z-uU5-5apf8/AAAAAAAAAAI/AAAAAAAAABc/bNluDe5pzU0/s64/photo.jpg",
      "userId": "15071145540534532009"
     },
     "user_tz": -480
    },
    "id": "2lK6hdDGC5A3",
    "outputId": "c348c11b-0938-4fae-ceea-e70525adf60a"
   },
   "outputs": [
    {
     "data": {
      "text/plain": [
       "(0, 0)"
      ]
     },
     "execution_count": 19,
     "metadata": {},
     "output_type": "execute_result"
    }
   ],
   "source": [
    "joined = join_df(train, store, \"Store\")\n",
    "joined_test = join_df(test, store, \"Store\")\n",
    "len(joined[joined.StoreType.isnull()]),len(joined_test[joined_test.StoreType.isnull()])"
   ]
  },
  {
   "cell_type": "code",
   "execution_count": 20,
   "metadata": {
    "ExecuteTime": {
     "end_time": "2019-07-02T07:46:09.678081Z",
     "start_time": "2019-07-02T07:46:08.392517Z"
    },
    "colab": {
     "base_uri": "https://localhost:8080/",
     "height": 35
    },
    "colab_type": "code",
    "executionInfo": {
     "elapsed": 5369,
     "status": "ok",
     "timestamp": 1561447689105,
     "user": {
      "displayName": "Sarada Lee",
      "photoUrl": "https://lh3.googleusercontent.com/-Z-uU5-5apf8/AAAAAAAAAAI/AAAAAAAAABc/bNluDe5pzU0/s64/photo.jpg",
      "userId": "15071145540534532009"
     },
     "user_tz": -480
    },
    "id": "3PoneYoiC5A6",
    "outputId": "c8734270-ec42-48e7-f188-af96dbf22541"
   },
   "outputs": [
    {
     "data": {
      "text/plain": [
       "(0, 0)"
      ]
     },
     "execution_count": 20,
     "metadata": {},
     "output_type": "execute_result"
    }
   ],
   "source": [
    "joined = join_df(joined, googletrend, [\"State\",\"Year\", \"Week\"])\n",
    "joined_test = join_df(joined_test, googletrend, [\"State\",\"Year\", \"Week\"])\n",
    "len(joined[joined.trend.isnull()]),len(joined_test[joined_test.trend.isnull()])"
   ]
  },
  {
   "cell_type": "code",
   "execution_count": 21,
   "metadata": {
    "ExecuteTime": {
     "end_time": "2019-07-02T07:46:11.797414Z",
     "start_time": "2019-07-02T07:46:09.680075Z"
    },
    "colab": {
     "base_uri": "https://localhost:8080/",
     "height": 35
    },
    "colab_type": "code",
    "executionInfo": {
     "elapsed": 7217,
     "status": "ok",
     "timestamp": 1561447691098,
     "user": {
      "displayName": "Sarada Lee",
      "photoUrl": "https://lh3.googleusercontent.com/-Z-uU5-5apf8/AAAAAAAAAAI/AAAAAAAAABc/bNluDe5pzU0/s64/photo.jpg",
      "userId": "15071145540534532009"
     },
     "user_tz": -480
    },
    "id": "Z_f7-E0YC5A9",
    "outputId": "7e2c027d-e7d8-4022-fda4-4db83c59a6ae"
   },
   "outputs": [
    {
     "data": {
      "text/plain": [
       "(0, 0)"
      ]
     },
     "execution_count": 21,
     "metadata": {},
     "output_type": "execute_result"
    }
   ],
   "source": [
    "joined = joined.merge(trend_de, 'left', [\"Year\", \"Week\"], suffixes=('', '_DE'))\n",
    "joined_test = joined_test.merge(trend_de, 'left', [\"Year\", \"Week\"], suffixes=('', '_DE'))\n",
    "len(joined[joined.trend_DE.isnull()]),len(joined_test[joined_test.trend_DE.isnull()])"
   ]
  },
  {
   "cell_type": "code",
   "execution_count": 22,
   "metadata": {
    "ExecuteTime": {
     "end_time": "2019-07-02T07:46:15.948315Z",
     "start_time": "2019-07-02T07:46:11.799408Z"
    },
    "colab": {
     "base_uri": "https://localhost:8080/",
     "height": 35
    },
    "colab_type": "code",
    "executionInfo": {
     "elapsed": 10995,
     "status": "ok",
     "timestamp": 1561447695018,
     "user": {
      "displayName": "Sarada Lee",
      "photoUrl": "https://lh3.googleusercontent.com/-Z-uU5-5apf8/AAAAAAAAAAI/AAAAAAAAABc/bNluDe5pzU0/s64/photo.jpg",
      "userId": "15071145540534532009"
     },
     "user_tz": -480
    },
    "id": "gMB8MLbOC5BA",
    "outputId": "94e06af2-5eb9-486b-a57f-ade56b57a0bf"
   },
   "outputs": [
    {
     "data": {
      "text/plain": [
       "(0, 0)"
      ]
     },
     "execution_count": 22,
     "metadata": {},
     "output_type": "execute_result"
    }
   ],
   "source": [
    "joined = join_df(joined, weather, [\"State\",\"Date\"])\n",
    "joined_test = join_df(joined_test, weather, [\"State\",\"Date\"])\n",
    "len(joined[joined.Mean_TemperatureC.isnull()]),len(joined_test[joined_test.Mean_TemperatureC.isnull()])"
   ]
  },
  {
   "cell_type": "code",
   "execution_count": 23,
   "metadata": {
    "ExecuteTime": {
     "end_time": "2019-07-02T07:46:21.520632Z",
     "start_time": "2019-07-02T07:46:15.949313Z"
    },
    "colab": {},
    "colab_type": "code",
    "id": "WW-YrJS1C5BE"
   },
   "outputs": [],
   "source": [
    "for df in (joined, joined_test):\n",
    "    for c in df.columns:\n",
    "        if c.endswith('_y'):\n",
    "            if c in df.columns: df.drop(c, inplace=True, axis=1)"
   ]
  },
  {
   "cell_type": "markdown",
   "metadata": {
    "colab_type": "text",
    "id": "B01SOJgNC5BI"
   },
   "source": [
    "Next we'll fill in missing values to avoid complications with `NA`'s. `NA` (not available) is how Pandas indicates missing values; many models have problems when missing values are present, so it's always important to think about how to deal with them. In these cases, we are picking an arbitrary *signal value* that doesn't otherwise appear in the data."
   ]
  },
  {
   "cell_type": "code",
   "execution_count": 24,
   "metadata": {
    "ExecuteTime": {
     "end_time": "2019-07-02T07:46:21.718071Z",
     "start_time": "2019-07-02T07:46:21.521597Z"
    },
    "colab": {},
    "colab_type": "code",
    "id": "N4YqJu7GC5BJ"
   },
   "outputs": [],
   "source": [
    "for df in (joined,joined_test):\n",
    "    df['CompetitionOpenSinceYear'] = df.CompetitionOpenSinceYear.fillna(1900).astype(np.int32)\n",
    "    df['CompetitionOpenSinceMonth'] = df.CompetitionOpenSinceMonth.fillna(1).astype(np.int32)\n",
    "    df['Promo2SinceYear'] = df.Promo2SinceYear.fillna(1900).astype(np.int32)\n",
    "    df['Promo2SinceWeek'] = df.Promo2SinceWeek.fillna(1).astype(np.int32)"
   ]
  },
  {
   "cell_type": "markdown",
   "metadata": {
    "colab_type": "text",
    "id": "EZISW3lLC5BM"
   },
   "source": [
    "Next we'll extract features \"CompetitionOpenSince\" and \"CompetitionDaysOpen\". Note the use of `apply()` in mapping a function across dataframe values."
   ]
  },
  {
   "cell_type": "code",
   "execution_count": 25,
   "metadata": {
    "ExecuteTime": {
     "end_time": "2019-07-02T07:46:22.440167Z",
     "start_time": "2019-07-02T07:46:21.719069Z"
    },
    "colab": {},
    "colab_type": "code",
    "id": "z-m7v8H9C5BM"
   },
   "outputs": [],
   "source": [
    "for df in (joined,joined_test):\n",
    "    df[\"CompetitionOpenSince\"] = pd.to_datetime(dict(year=df.CompetitionOpenSinceYear, \n",
    "                                                     month=df.CompetitionOpenSinceMonth, day=15))\n",
    "    df[\"CompetitionDaysOpen\"] = df.Date.subtract(df.CompetitionOpenSince).dt.days"
   ]
  },
  {
   "cell_type": "markdown",
   "metadata": {
    "colab_type": "text",
    "id": "cm4qos0CC5BO"
   },
   "source": [
    "We'll replace some erroneous / outlying data."
   ]
  },
  {
   "cell_type": "code",
   "execution_count": 26,
   "metadata": {
    "ExecuteTime": {
     "end_time": "2019-07-02T07:46:22.845058Z",
     "start_time": "2019-07-02T07:46:22.441140Z"
    },
    "colab": {},
    "colab_type": "code",
    "id": "NneeU79BC5BP"
   },
   "outputs": [],
   "source": [
    "for df in (joined,joined_test):\n",
    "    df.loc[df.CompetitionDaysOpen<0, \"CompetitionDaysOpen\"] = 0\n",
    "    df.loc[df.CompetitionOpenSinceYear<1990, \"CompetitionDaysOpen\"] = 0"
   ]
  },
  {
   "cell_type": "markdown",
   "metadata": {
    "colab_type": "text",
    "id": "HU0M8OImC5BS"
   },
   "source": [
    "We add \"CompetitionMonthsOpen\" field, limiting the maximum to 2 years to limit number of unique categories."
   ]
  },
  {
   "cell_type": "code",
   "execution_count": 27,
   "metadata": {
    "ExecuteTime": {
     "end_time": "2019-07-02T07:46:23.148250Z",
     "start_time": "2019-07-02T07:46:22.846055Z"
    },
    "colab": {
     "base_uri": "https://localhost:8080/",
     "height": 35
    },
    "colab_type": "code",
    "executionInfo": {
     "elapsed": 16897,
     "status": "ok",
     "timestamp": 1561447702516,
     "user": {
      "displayName": "Sarada Lee",
      "photoUrl": "https://lh3.googleusercontent.com/-Z-uU5-5apf8/AAAAAAAAAAI/AAAAAAAAABc/bNluDe5pzU0/s64/photo.jpg",
      "userId": "15071145540534532009"
     },
     "user_tz": -480
    },
    "id": "yTy8mFG9C5BT",
    "outputId": "874bddf2-51f8-424e-b61b-f0628c409d7c"
   },
   "outputs": [
    {
     "data": {
      "text/plain": [
       "array([24,  3, 19,  9,  0, 16, 17,  7, 15, 22, 11, 13,  2, 23, 12,  4, 10,\n",
       "        1, 14, 20,  8, 18,  6, 21,  5], dtype=int64)"
      ]
     },
     "execution_count": 27,
     "metadata": {},
     "output_type": "execute_result"
    }
   ],
   "source": [
    "for df in (joined,joined_test):\n",
    "    df[\"CompetitionMonthsOpen\"] = df[\"CompetitionDaysOpen\"]//30\n",
    "    df.loc[df.CompetitionMonthsOpen>24, \"CompetitionMonthsOpen\"] = 24\n",
    "joined.CompetitionMonthsOpen.unique()"
   ]
  },
  {
   "cell_type": "markdown",
   "metadata": {
    "colab_type": "text",
    "id": "WC9s34BwC5BW"
   },
   "source": [
    "Same process for Promo dates. You may need to install the `isoweek` package first."
   ]
  },
  {
   "cell_type": "code",
   "execution_count": 28,
   "metadata": {
    "ExecuteTime": {
     "end_time": "2019-07-02T07:47:04.052549Z",
     "start_time": "2019-07-02T07:46:23.150243Z"
    },
    "colab": {},
    "colab_type": "code",
    "id": "pLdYjldEC5BY"
   },
   "outputs": [],
   "source": [
    "for df in (joined,joined_test):\n",
    "    df[\"Promo2Since\"] = pd.to_datetime(df.apply(lambda x: Week(\n",
    "        x.Promo2SinceYear, x.Promo2SinceWeek).monday(), axis=1))\n",
    "    df[\"Promo2Days\"] = df.Date.subtract(df[\"Promo2Since\"]).dt.days"
   ]
  },
  {
   "cell_type": "code",
   "execution_count": 29,
   "metadata": {
    "ExecuteTime": {
     "end_time": "2019-07-02T07:47:04.701734Z",
     "start_time": "2019-07-02T07:47:04.053468Z"
    },
    "colab": {},
    "colab_type": "code",
    "id": "yqlsk6MxC5Ba"
   },
   "outputs": [],
   "source": [
    "for df in (joined,joined_test):\n",
    "    df.loc[df.Promo2Days<0, \"Promo2Days\"] = 0\n",
    "    df.loc[df.Promo2SinceYear<1990, \"Promo2Days\"] = 0\n",
    "    df[\"Promo2Weeks\"] = df[\"Promo2Days\"]//7\n",
    "    df.loc[df.Promo2Weeks<0, \"Promo2Weeks\"] = 0\n",
    "    df.loc[df.Promo2Weeks>25, \"Promo2Weeks\"] = 25\n",
    "    df.Promo2Weeks.unique()"
   ]
  },
  {
   "cell_type": "code",
   "execution_count": 30,
   "metadata": {
    "ExecuteTime": {
     "end_time": "2019-07-02T07:47:11.331643Z",
     "start_time": "2019-07-02T07:47:04.702732Z"
    },
    "colab": {},
    "colab_type": "code",
    "id": "oiKFBeXYC5Bc"
   },
   "outputs": [],
   "source": [
    "joined.to_pickle(PATH/'joined')\n",
    "joined_test.to_pickle(PATH/'joined_test')"
   ]
  },
  {
   "cell_type": "markdown",
   "metadata": {
    "colab_type": "text",
    "id": "gsPy892kC5Bf"
   },
   "source": [
    "## Durations"
   ]
  },
  {
   "cell_type": "markdown",
   "metadata": {
    "colab_type": "text",
    "id": "VEDoiAeyC5Bg"
   },
   "source": [
    "It is common when working with time series data to extract data that explains relationships across rows as opposed to columns, e.g.:\n",
    "* Running averages\n",
    "* Time until next event\n",
    "* Time since last event\n",
    "\n",
    "This is often difficult to do with most table manipulation frameworks, since they are designed to work with relationships across columns. As such, we've created a class to handle this type of data.\n",
    "\n",
    "We'll define a function `get_elapsed` for cumulative counting across a sorted dataframe. Given a particular field `fld` to monitor, this function will start tracking time since the last occurrence of that field. When the field is seen again, the counter is set to zero.\n",
    "\n",
    "Upon initialization, this will result in datetime na's until the field is encountered. This is reset every time a new store is seen. We'll see how to use this shortly."
   ]
  },
  {
   "cell_type": "code",
   "execution_count": 31,
   "metadata": {
    "ExecuteTime": {
     "end_time": "2019-07-02T07:47:11.389444Z",
     "start_time": "2019-07-02T07:47:11.332561Z"
    },
    "colab": {},
    "colab_type": "code",
    "id": "hZDPGKKaC5Bg"
   },
   "outputs": [],
   "source": [
    "def get_elapsed(fld, pre):\n",
    "    day1 = np.timedelta64(1, 'D')\n",
    "    last_date = np.datetime64()\n",
    "    last_store = 0\n",
    "    res = []\n",
    "\n",
    "    for s,v,d in zip(df.Store.values,df[fld].values, df.Date.values):\n",
    "        if s != last_store:\n",
    "            last_date = np.datetime64()\n",
    "            last_store = s\n",
    "        if v: last_date = d\n",
    "        res.append(((d-last_date).astype('timedelta64[D]') / day1))\n",
    "    df[pre+fld] = res"
   ]
  },
  {
   "cell_type": "markdown",
   "metadata": {
    "colab_type": "text",
    "id": "6hFIpPhYC5Bj"
   },
   "source": [
    "We'll be applying this to a subset of columns:"
   ]
  },
  {
   "cell_type": "code",
   "execution_count": 32,
   "metadata": {
    "ExecuteTime": {
     "end_time": "2019-07-02T07:47:11.441273Z",
     "start_time": "2019-07-02T07:47:11.390406Z"
    },
    "colab": {},
    "colab_type": "code",
    "id": "-zuAd1nFC5Bk"
   },
   "outputs": [],
   "source": [
    "columns = [\"Date\", \"Store\", \"Promo\", \"StateHoliday\", \"SchoolHoliday\"]"
   ]
  },
  {
   "cell_type": "code",
   "execution_count": 33,
   "metadata": {
    "ExecuteTime": {
     "end_time": "2019-07-02T07:47:11.628770Z",
     "start_time": "2019-07-02T07:47:11.442267Z"
    },
    "colab": {},
    "colab_type": "code",
    "id": "JPZsPjf2C5Bm"
   },
   "outputs": [],
   "source": [
    "#df = train[columns]\n",
    "df = train[columns].append(test[columns])"
   ]
  },
  {
   "cell_type": "markdown",
   "metadata": {
    "colab_type": "text",
    "id": "WS8yWlBgC5Bo"
   },
   "source": [
    "Let's walk through an example.\n",
    "\n",
    "Say we're looking at School Holiday. We'll first sort by Store, then Date, and then call `add_elapsed('SchoolHoliday', 'After')`:\n",
    "This will apply to each row with School Holiday:\n",
    "* A applied to every row of the dataframe in order of store and date\n",
    "* Will add to the dataframe the days since seeing a School Holiday\n",
    "* If we sort in the other direction, this will count the days until another holiday."
   ]
  },
  {
   "cell_type": "code",
   "execution_count": 34,
   "metadata": {
    "ExecuteTime": {
     "end_time": "2019-07-02T07:47:27.699871Z",
     "start_time": "2019-07-02T07:47:11.629767Z"
    },
    "colab": {},
    "colab_type": "code",
    "id": "guu2GrDfC5Bp"
   },
   "outputs": [],
   "source": [
    "fld = 'SchoolHoliday'\n",
    "df = df.sort_values(['Store', 'Date'])\n",
    "get_elapsed(fld, 'After')\n",
    "df = df.sort_values(['Store', 'Date'], ascending=[True, False])\n",
    "get_elapsed(fld, 'Before')"
   ]
  },
  {
   "cell_type": "markdown",
   "metadata": {
    "colab_type": "text",
    "id": "KBxE68CKC5Bq"
   },
   "source": [
    "We'll do this for two more fields."
   ]
  },
  {
   "cell_type": "code",
   "execution_count": 35,
   "metadata": {
    "ExecuteTime": {
     "end_time": "2019-07-02T07:47:43.385939Z",
     "start_time": "2019-07-02T07:47:27.700796Z"
    },
    "colab": {},
    "colab_type": "code",
    "id": "TDQgvpz_C5Br"
   },
   "outputs": [],
   "source": [
    "fld = 'StateHoliday'\n",
    "df = df.sort_values(['Store', 'Date'])\n",
    "get_elapsed(fld, 'After')\n",
    "df = df.sort_values(['Store', 'Date'], ascending=[True, False])\n",
    "get_elapsed(fld, 'Before')"
   ]
  },
  {
   "cell_type": "code",
   "execution_count": 36,
   "metadata": {
    "ExecuteTime": {
     "end_time": "2019-07-02T07:47:59.757088Z",
     "start_time": "2019-07-02T07:47:43.386853Z"
    },
    "colab": {},
    "colab_type": "code",
    "id": "gAl9vZudC5Bu"
   },
   "outputs": [],
   "source": [
    "fld = 'Promo'\n",
    "df = df.sort_values(['Store', 'Date'])\n",
    "get_elapsed(fld, 'After')\n",
    "df = df.sort_values(['Store', 'Date'], ascending=[True, False])\n",
    "get_elapsed(fld, 'Before')"
   ]
  },
  {
   "cell_type": "markdown",
   "metadata": {
    "colab_type": "text",
    "id": "tIp5x-PAC5Bx"
   },
   "source": [
    "We're going to set the active index to Date."
   ]
  },
  {
   "cell_type": "code",
   "execution_count": 37,
   "metadata": {
    "ExecuteTime": {
     "end_time": "2019-07-02T07:47:59.881751Z",
     "start_time": "2019-07-02T07:47:59.759082Z"
    },
    "colab": {},
    "colab_type": "code",
    "id": "H2HxEaouC5By"
   },
   "outputs": [],
   "source": [
    "df = df.set_index(\"Date\")"
   ]
  },
  {
   "cell_type": "markdown",
   "metadata": {
    "colab_type": "text",
    "id": "8_-0eItbC5B0"
   },
   "source": [
    "Then set null values from elapsed field calculations to 0."
   ]
  },
  {
   "cell_type": "code",
   "execution_count": 38,
   "metadata": {
    "ExecuteTime": {
     "end_time": "2019-07-02T07:47:59.946579Z",
     "start_time": "2019-07-02T07:47:59.882749Z"
    },
    "colab": {},
    "colab_type": "code",
    "id": "2QZSpkg7C5B1"
   },
   "outputs": [],
   "source": [
    "columns = ['SchoolHoliday', 'StateHoliday', 'Promo']"
   ]
  },
  {
   "cell_type": "code",
   "execution_count": 39,
   "metadata": {
    "ExecuteTime": {
     "end_time": "2019-07-02T07:48:00.120114Z",
     "start_time": "2019-07-02T07:47:59.947576Z"
    },
    "colab": {},
    "colab_type": "code",
    "id": "Kg0QsZGuC5B3"
   },
   "outputs": [],
   "source": [
    "for o in ['Before', 'After']:\n",
    "    for p in columns:\n",
    "        a = o+p\n",
    "        df[a] = df[a].fillna(0).astype(int)"
   ]
  },
  {
   "cell_type": "markdown",
   "metadata": {
    "colab_type": "text",
    "id": "h6lY-lhUC5B6"
   },
   "source": [
    "Next we'll demonstrate window functions in pandas to calculate rolling quantities.\n",
    "\n",
    "Here we're sorting by date (`sort_index()`) and counting the number of events of interest (`sum()`) defined in `columns` in the following week (`rolling()`), grouped by Store (`groupby()`). We do the same in the opposite direction."
   ]
  },
  {
   "cell_type": "code",
   "execution_count": 40,
   "metadata": {
    "ExecuteTime": {
     "end_time": "2019-07-02T07:48:02.328244Z",
     "start_time": "2019-07-02T07:48:00.122111Z"
    },
    "colab": {},
    "colab_type": "code",
    "id": "9v7YgwavC5B7"
   },
   "outputs": [],
   "source": [
    "bwd = df[['Store']+columns].sort_index().groupby(\"Store\").rolling(7, min_periods=1).sum()"
   ]
  },
  {
   "cell_type": "code",
   "execution_count": 41,
   "metadata": {
    "ExecuteTime": {
     "end_time": "2019-07-02T07:48:04.474474Z",
     "start_time": "2019-07-02T07:48:02.329218Z"
    },
    "colab": {},
    "colab_type": "code",
    "id": "kJHdo6XgC5B8"
   },
   "outputs": [],
   "source": [
    "fwd = df[['Store']+columns].sort_index(ascending=False\n",
    "                                      ).groupby(\"Store\").rolling(7, min_periods=1).sum()"
   ]
  },
  {
   "cell_type": "markdown",
   "metadata": {
    "colab_type": "text",
    "id": "a-FOMX50C5B_"
   },
   "source": [
    "Next we want to drop the Store indices grouped together in the window function.\n",
    "\n",
    "Often in pandas, there is an option to do this in place. This is time and memory efficient when working with large datasets."
   ]
  },
  {
   "cell_type": "code",
   "execution_count": 42,
   "metadata": {
    "ExecuteTime": {
     "end_time": "2019-07-02T07:48:04.563262Z",
     "start_time": "2019-07-02T07:48:04.475471Z"
    },
    "colab": {},
    "colab_type": "code",
    "id": "fREH41D7C5CB"
   },
   "outputs": [],
   "source": [
    "bwd.drop('Store',1,inplace=True)\n",
    "bwd.reset_index(inplace=True)"
   ]
  },
  {
   "cell_type": "code",
   "execution_count": 43,
   "metadata": {
    "ExecuteTime": {
     "end_time": "2019-07-02T07:48:04.658981Z",
     "start_time": "2019-07-02T07:48:04.564235Z"
    },
    "colab": {},
    "colab_type": "code",
    "id": "4GMENMmoC5CE"
   },
   "outputs": [],
   "source": [
    "fwd.drop('Store',1,inplace=True)\n",
    "fwd.reset_index(inplace=True)"
   ]
  },
  {
   "cell_type": "code",
   "execution_count": 44,
   "metadata": {
    "ExecuteTime": {
     "end_time": "2019-07-02T07:48:04.721813Z",
     "start_time": "2019-07-02T07:48:04.659979Z"
    },
    "colab": {},
    "colab_type": "code",
    "id": "U6lAvUtBC5CG"
   },
   "outputs": [],
   "source": [
    "df.reset_index(inplace=True)"
   ]
  },
  {
   "cell_type": "markdown",
   "metadata": {
    "colab_type": "text",
    "id": "vTte56SLC5CI"
   },
   "source": [
    "Now we'll merge these values onto the df."
   ]
  },
  {
   "cell_type": "code",
   "execution_count": 45,
   "metadata": {
    "ExecuteTime": {
     "end_time": "2019-07-02T07:48:05.798941Z",
     "start_time": "2019-07-02T07:48:04.722811Z"
    },
    "colab": {},
    "colab_type": "code",
    "id": "Bus_cHzdC5CJ"
   },
   "outputs": [],
   "source": [
    "df = df.merge(bwd, 'left', ['Date', 'Store'], suffixes=['', '_bw'])\n",
    "df = df.merge(fwd, 'left', ['Date', 'Store'], suffixes=['', '_fw'])"
   ]
  },
  {
   "cell_type": "code",
   "execution_count": 46,
   "metadata": {
    "ExecuteTime": {
     "end_time": "2019-07-02T07:48:05.966486Z",
     "start_time": "2019-07-02T07:48:05.799931Z"
    },
    "colab": {},
    "colab_type": "code",
    "id": "3gnDy-cPC5CM"
   },
   "outputs": [],
   "source": [
    "df.drop(columns,1,inplace=True)"
   ]
  },
  {
   "cell_type": "code",
   "execution_count": 47,
   "metadata": {
    "ExecuteTime": {
     "end_time": "2019-07-02T07:48:06.048267Z",
     "start_time": "2019-07-02T07:48:05.968480Z"
    },
    "colab": {
     "base_uri": "https://localhost:8080/",
     "height": 305
    },
    "colab_type": "code",
    "executionInfo": {
     "elapsed": 117990,
     "status": "ok",
     "timestamp": 1561447810139,
     "user": {
      "displayName": "Sarada Lee",
      "photoUrl": "https://lh3.googleusercontent.com/-Z-uU5-5apf8/AAAAAAAAAAI/AAAAAAAAABc/bNluDe5pzU0/s64/photo.jpg",
      "userId": "15071145540534532009"
     },
     "user_tz": -480
    },
    "id": "zl6RGGQKC5CP",
    "outputId": "8b2fc7e6-49b1-4748-939e-3121cad3b72f"
   },
   "outputs": [
    {
     "data": {
      "text/html": [
       "<div>\n",
       "<style scoped>\n",
       "    .dataframe tbody tr th:only-of-type {\n",
       "        vertical-align: middle;\n",
       "    }\n",
       "\n",
       "    .dataframe tbody tr th {\n",
       "        vertical-align: top;\n",
       "    }\n",
       "\n",
       "    .dataframe thead th {\n",
       "        text-align: right;\n",
       "    }\n",
       "</style>\n",
       "<table border=\"1\" class=\"dataframe\">\n",
       "  <thead>\n",
       "    <tr style=\"text-align: right;\">\n",
       "      <th></th>\n",
       "      <th>Date</th>\n",
       "      <th>Store</th>\n",
       "      <th>AfterSchoolHoliday</th>\n",
       "      <th>BeforeSchoolHoliday</th>\n",
       "      <th>AfterStateHoliday</th>\n",
       "      <th>BeforeStateHoliday</th>\n",
       "      <th>AfterPromo</th>\n",
       "      <th>BeforePromo</th>\n",
       "      <th>SchoolHoliday_bw</th>\n",
       "      <th>StateHoliday_bw</th>\n",
       "      <th>Promo_bw</th>\n",
       "      <th>SchoolHoliday_fw</th>\n",
       "      <th>StateHoliday_fw</th>\n",
       "      <th>Promo_fw</th>\n",
       "    </tr>\n",
       "  </thead>\n",
       "  <tbody>\n",
       "    <tr>\n",
       "      <th>0</th>\n",
       "      <td>2015-09-17</td>\n",
       "      <td>1</td>\n",
       "      <td>13</td>\n",
       "      <td>0</td>\n",
       "      <td>105</td>\n",
       "      <td>0</td>\n",
       "      <td>0</td>\n",
       "      <td>0</td>\n",
       "      <td>0.0</td>\n",
       "      <td>0.0</td>\n",
       "      <td>4.0</td>\n",
       "      <td>0.0</td>\n",
       "      <td>0.0</td>\n",
       "      <td>1.0</td>\n",
       "    </tr>\n",
       "    <tr>\n",
       "      <th>1</th>\n",
       "      <td>2015-09-16</td>\n",
       "      <td>1</td>\n",
       "      <td>12</td>\n",
       "      <td>0</td>\n",
       "      <td>104</td>\n",
       "      <td>0</td>\n",
       "      <td>0</td>\n",
       "      <td>0</td>\n",
       "      <td>0.0</td>\n",
       "      <td>0.0</td>\n",
       "      <td>3.0</td>\n",
       "      <td>0.0</td>\n",
       "      <td>0.0</td>\n",
       "      <td>2.0</td>\n",
       "    </tr>\n",
       "    <tr>\n",
       "      <th>2</th>\n",
       "      <td>2015-09-15</td>\n",
       "      <td>1</td>\n",
       "      <td>11</td>\n",
       "      <td>0</td>\n",
       "      <td>103</td>\n",
       "      <td>0</td>\n",
       "      <td>0</td>\n",
       "      <td>0</td>\n",
       "      <td>0.0</td>\n",
       "      <td>0.0</td>\n",
       "      <td>2.0</td>\n",
       "      <td>0.0</td>\n",
       "      <td>0.0</td>\n",
       "      <td>3.0</td>\n",
       "    </tr>\n",
       "    <tr>\n",
       "      <th>3</th>\n",
       "      <td>2015-09-14</td>\n",
       "      <td>1</td>\n",
       "      <td>10</td>\n",
       "      <td>0</td>\n",
       "      <td>102</td>\n",
       "      <td>0</td>\n",
       "      <td>0</td>\n",
       "      <td>0</td>\n",
       "      <td>0.0</td>\n",
       "      <td>0.0</td>\n",
       "      <td>1.0</td>\n",
       "      <td>0.0</td>\n",
       "      <td>0.0</td>\n",
       "      <td>4.0</td>\n",
       "    </tr>\n",
       "    <tr>\n",
       "      <th>4</th>\n",
       "      <td>2015-09-13</td>\n",
       "      <td>1</td>\n",
       "      <td>9</td>\n",
       "      <td>0</td>\n",
       "      <td>101</td>\n",
       "      <td>0</td>\n",
       "      <td>9</td>\n",
       "      <td>-1</td>\n",
       "      <td>0.0</td>\n",
       "      <td>0.0</td>\n",
       "      <td>0.0</td>\n",
       "      <td>0.0</td>\n",
       "      <td>0.0</td>\n",
       "      <td>4.0</td>\n",
       "    </tr>\n",
       "  </tbody>\n",
       "</table>\n",
       "</div>"
      ],
      "text/plain": [
       "        Date  Store  AfterSchoolHoliday  BeforeSchoolHoliday  AfterStateHoliday  BeforeStateHoliday  AfterPromo  BeforePromo  SchoolHoliday_bw  StateHoliday_bw  Promo_bw  SchoolHoliday_fw  StateHoliday_fw  Promo_fw\n",
       "0 2015-09-17      1                  13                    0                105                   0           0            0               0.0              0.0       4.0               0.0              0.0       1.0\n",
       "1 2015-09-16      1                  12                    0                104                   0           0            0               0.0              0.0       3.0               0.0              0.0       2.0\n",
       "2 2015-09-15      1                  11                    0                103                   0           0            0               0.0              0.0       2.0               0.0              0.0       3.0\n",
       "3 2015-09-14      1                  10                    0                102                   0           0            0               0.0              0.0       1.0               0.0              0.0       4.0\n",
       "4 2015-09-13      1                   9                    0                101                   0           9           -1               0.0              0.0       0.0               0.0              0.0       4.0"
      ]
     },
     "execution_count": 47,
     "metadata": {},
     "output_type": "execute_result"
    }
   ],
   "source": [
    "df.head()"
   ]
  },
  {
   "cell_type": "markdown",
   "metadata": {
    "colab_type": "text",
    "id": "2ii_QGAUC5CR"
   },
   "source": [
    "It's usually a good idea to back up large tables of extracted / wrangled features before you join them onto another one, that way you can go back to it easily if you need to make changes to it."
   ]
  },
  {
   "cell_type": "code",
   "execution_count": 48,
   "metadata": {
    "ExecuteTime": {
     "end_time": "2019-07-02T07:48:07.260278Z",
     "start_time": "2019-07-02T07:48:06.049264Z"
    },
    "colab": {},
    "colab_type": "code",
    "id": "dFQxVcMnC5CS"
   },
   "outputs": [],
   "source": [
    "df.to_pickle(PATH/'df')"
   ]
  },
  {
   "cell_type": "code",
   "execution_count": 49,
   "metadata": {
    "ExecuteTime": {
     "end_time": "2019-07-02T07:48:07.331088Z",
     "start_time": "2019-07-02T07:48:07.262286Z"
    },
    "colab": {},
    "colab_type": "code",
    "id": "drBJVik4C5CT"
   },
   "outputs": [],
   "source": [
    "df[\"Date\"] = pd.to_datetime(df.Date)"
   ]
  },
  {
   "cell_type": "code",
   "execution_count": 50,
   "metadata": {
    "ExecuteTime": {
     "end_time": "2019-07-02T07:48:07.394920Z",
     "start_time": "2019-07-02T07:48:07.333109Z"
    },
    "colab": {
     "base_uri": "https://localhost:8080/",
     "height": 108
    },
    "colab_type": "code",
    "executionInfo": {
     "elapsed": 117782,
     "status": "ok",
     "timestamp": 1561447812250,
     "user": {
      "displayName": "Sarada Lee",
      "photoUrl": "https://lh3.googleusercontent.com/-Z-uU5-5apf8/AAAAAAAAAAI/AAAAAAAAABc/bNluDe5pzU0/s64/photo.jpg",
      "userId": "15071145540534532009"
     },
     "user_tz": -480
    },
    "id": "fAa4DuscC5CV",
    "outputId": "19343c17-6c1f-4cc5-884c-91e6b7a96f6f"
   },
   "outputs": [
    {
     "data": {
      "text/plain": [
       "Index(['Date', 'Store', 'AfterSchoolHoliday', 'BeforeSchoolHoliday', 'AfterStateHoliday', 'BeforeStateHoliday', 'AfterPromo', 'BeforePromo', 'SchoolHoliday_bw', 'StateHoliday_bw', 'Promo_bw', 'SchoolHoliday_fw', 'StateHoliday_fw', 'Promo_fw'], dtype='object')"
      ]
     },
     "execution_count": 50,
     "metadata": {},
     "output_type": "execute_result"
    }
   ],
   "source": [
    "df.columns"
   ]
  },
  {
   "cell_type": "code",
   "execution_count": 51,
   "metadata": {
    "ExecuteTime": {
     "end_time": "2019-07-02T07:48:08.717407Z",
     "start_time": "2019-07-02T07:48:07.396914Z"
    },
    "colab": {},
    "colab_type": "code",
    "id": "uZ2c7la8C5CX"
   },
   "outputs": [],
   "source": [
    "joined = pd.read_pickle(PATH/'joined')\n",
    "joined_test = pd.read_pickle(PATH/f'joined_test')"
   ]
  },
  {
   "cell_type": "code",
   "execution_count": 52,
   "metadata": {
    "ExecuteTime": {
     "end_time": "2019-07-02T07:48:12.947098Z",
     "start_time": "2019-07-02T07:48:08.718405Z"
    },
    "colab": {},
    "colab_type": "code",
    "id": "DwAHO8aJC5CY"
   },
   "outputs": [],
   "source": [
    "joined = join_df(joined, df, ['Store', 'Date'])"
   ]
  },
  {
   "cell_type": "code",
   "execution_count": 53,
   "metadata": {
    "ExecuteTime": {
     "end_time": "2019-07-02T07:48:13.385931Z",
     "start_time": "2019-07-02T07:48:12.948069Z"
    },
    "colab": {},
    "colab_type": "code",
    "id": "ukOuJcFWC5Cc"
   },
   "outputs": [],
   "source": [
    "joined_test = join_df(joined_test, df, ['Store', 'Date'])"
   ]
  },
  {
   "cell_type": "markdown",
   "metadata": {
    "colab_type": "text",
    "id": "Omm-UzMPC5Cd"
   },
   "source": [
    "The authors also removed all instances where the store had zero sale / was closed. We speculate that this may have cost them a higher standing in the competition. One reason this may be the case is that a little exploratory data analysis reveals that there are often periods where stores are closed, typically for refurbishment. Before and after these periods, there are naturally spikes in sales that one might expect. By ommitting this data from their training, the authors gave up the ability to leverage information about these periods to predict this otherwise volatile behavior."
   ]
  },
  {
   "cell_type": "code",
   "execution_count": 54,
   "metadata": {
    "ExecuteTime": {
     "end_time": "2019-07-02T07:48:14.246622Z",
     "start_time": "2019-07-02T07:48:13.386922Z"
    },
    "colab": {},
    "colab_type": "code",
    "id": "O8gNZ-xLC5Ce"
   },
   "outputs": [],
   "source": [
    "joined = joined[joined.Sales!=0]"
   ]
  },
  {
   "cell_type": "markdown",
   "metadata": {
    "colab_type": "text",
    "id": "CvDDWv_JC5Cf"
   },
   "source": [
    "We'll back this up as well."
   ]
  },
  {
   "cell_type": "code",
   "execution_count": 55,
   "metadata": {
    "ExecuteTime": {
     "end_time": "2019-07-02T07:48:14.305440Z",
     "start_time": "2019-07-02T07:48:14.247595Z"
    },
    "colab": {},
    "colab_type": "code",
    "id": "lHB1ZS1WC5Cg"
   },
   "outputs": [],
   "source": [
    "joined.reset_index(inplace=True)\n",
    "joined_test.reset_index(inplace=True)"
   ]
  },
  {
   "cell_type": "code",
   "execution_count": 56,
   "metadata": {
    "ExecuteTime": {
     "end_time": "2019-07-02T07:48:19.425944Z",
     "start_time": "2019-07-02T07:48:14.306437Z"
    },
    "colab": {},
    "colab_type": "code",
    "id": "s-YDIx9iC5Ch"
   },
   "outputs": [],
   "source": [
    "joined.to_pickle(PATH/'train_clean')\n",
    "joined_test.to_pickle(PATH/'test_clean')"
   ]
  },
  {
   "cell_type": "code",
   "execution_count": 57,
   "metadata": {
    "ExecuteTime": {
     "end_time": "2019-07-02T07:49:42.832207Z",
     "start_time": "2019-07-02T07:48:19.427878Z"
    },
    "colab": {},
    "colab_type": "code",
    "id": "P4QfBwzRC5Cj"
   },
   "outputs": [],
   "source": [
    "joined.to_csv(PATH/'train_clean_csv')\n",
    "joined_test.to_csv(PATH/'test_clean_csv')"
   ]
  },
  {
   "cell_type": "markdown",
   "metadata": {},
   "source": [
    "#### Diplay image in Jupyter Notebook"
   ]
  },
  {
   "cell_type": "markdown",
   "metadata": {
    "ExecuteTime": {
     "end_time": "2019-07-02T07:58:48.996911Z",
     "start_time": "2019-07-02T07:58:48.944043Z"
    }
   },
   "source": [
    "Option 1: display under \"Code\" mode"
   ]
  },
  {
   "cell_type": "code",
   "execution_count": 67,
   "metadata": {
    "ExecuteTime": {
     "end_time": "2019-07-02T08:01:04.374476Z",
     "start_time": "2019-07-02T08:01:04.317628Z"
    }
   },
   "outputs": [
    {
     "data": {
      "image/png": "[encoded data removed]",
      "text/plain": [
       "<IPython.core.display.Image object>"
      ]
     },
     "execution_count": 67,
     "metadata": {},
     "output_type": "execute_result"
    }
   ],
   "source": [
    "from IPython.display import Image\n",
    "Image(filename='file_size_comparison.png')  # save file in the working directory"
   ]
  },
  {
   "cell_type": "markdown",
   "metadata": {
    "ExecuteTime": {
     "end_time": "2019-07-02T07:59:45.299913Z",
     "start_time": "2019-07-02T07:59:45.247013Z"
    }
   },
   "source": [
    "Option 2: display under \"Markdown\" mode"
   ]
  },
  {
   "cell_type": "markdown",
   "metadata": {
    "ExecuteTime": {
     "end_time": "2019-07-02T07:58:03.482932Z",
     "start_time": "2019-07-02T07:58:03.433048Z"
    }
   },
   "source": [
    "<img src='file_size_comparison.png'>"
   ]
  },
  {
   "cell_type": "code",
   "execution_count": null,
   "metadata": {},
   "outputs": [],
   "source": []
  }
 ],
 "metadata": {
  "accelerator": "GPU",
  "colab": {
   "collapsed_sections": [],
   "name": "rossmann_data_clean.ipynb",
   "provenance": [
    {
     "file_id": "https://github.com/fastai/course-v3/blob/master/nbs/dl1/rossman_data_clean.ipynb",
     "timestamp": 1561439847976
    }
   ],
   "version": "0.3.2"
  },
  "kernelspec": {
   "display_name": "resbaz",
   "language": "python",
   "name": "resbaz"
  },
  "language_info": {
   "codemirror_mode": {
    "name": "ipython",
    "version": 3
   },
   "file_extension": ".py",
   "mimetype": "text/x-python",
   "name": "python",
   "nbconvert_exporter": "python",
   "pygments_lexer": "ipython3",
   "version": "3.7.1"
  },
  "varInspector": {
   "cols": {
    "lenName": 16,
    "lenType": 16,
    "lenVar": 40
   },
   "kernels_config": {
    "python": {
     "delete_cmd_postfix": "",
     "delete_cmd_prefix": "del ",
     "library": "var_list.py",
     "varRefreshCmd": "print(var_dic_list())"
    },
    "r": {
     "delete_cmd_postfix": ") ",
     "delete_cmd_prefix": "rm(",
     "library": "var_list.r",
     "varRefreshCmd": "cat(var_dic_list()) "
    }
   },
   "types_to_exclude": [
    "module",
    "function",
    "builtin_function_or_method",
    "instance",
    "_Feature"
   ],
   "window_display": false
  }
 },
 "nbformat": 4,
 "nbformat_minor": 1
}
